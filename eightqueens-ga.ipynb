{
 "cells": [
  {
   "cell_type": "markdown",
   "metadata": {},
   "source": [
    "# 8 Queens\n",
    "\n",
    "### Introduction\n",
    "\n",
    "<figure>\n",
    "<img src=\"resources/eight_queens_moves.png\", width=300 align=\"right\">\n",
    "    <figcaption></figcaption>\n",
    "</figure>\n",
    "\n",
    "The [Eight Queens puzzle](https://en.wikipedia.org/wiki/Eight_queens_puzzle) is a famous puzzle that has been studied extensively in- and outside of computer science. It was first published in the chess magazine _Schach_ in 1848. \n",
    "\n",
    "The problem can be formulated as follows: \n",
    "\n",
    "_\"Place 8 queens on a regular (8x8) chess board such that no queen attacks any other queen.\"_\n",
    "\n",
    "A queen in the game of chess can move horizontally, vertically, and diagonally. The puzzle can be solved by hand (and even [Carl Friedrich Gauss](https://en.wikipedia.org/wiki/Carl_Friedrich_Gauss) studied it back in 1850)."
   ]
  },
  {
   "cell_type": "markdown",
   "metadata": {},
   "source": [
    "The EightQueensState class below, as well as the methods defined, should prove a helpful start for a Genetic Algorithms approach. However, you are welcome to change as little or as much of the code as is useful."
   ]
  },
  {
   "cell_type": "code",
   "execution_count": 1,
   "metadata": {},
   "outputs": [],
   "source": [
    "import numpy as np\n",
    "\n",
    "class EightQueensState:\n",
    "    \"\"\"This class represents a board in the eight queens puzzle\"\"\"\n",
    "    def __init__(self, state=None, n=8):\n",
    "        \"\"\"\n",
    "        :param state: pass in a numpy array of integers to set the state, otherwise will be generated randomly\n",
    "        :param n: only used if state is not provided, determines size of board (default: 8)\n",
    "        \"\"\"\n",
    "        if state is None:\n",
    "            self.n = n\n",
    "            state = np.random.randint(0, n, n)\n",
    "        else:\n",
    "            self.n = len(state)\n",
    "        self.state = state\n",
    "\n",
    "    @staticmethod\n",
    "    def copy_replace(state, i, x):\n",
    "        \"\"\"This creates a copy of the state (important as numpy arrays are mutable) with column i set to x\"\"\"\n",
    "        new_state = state.copy()\n",
    "        new_state[i] = x\n",
    "        return new_state\n",
    "\n",
    "    @staticmethod\n",
    "    def range_missing(start, stop, missing):\n",
    "        \"\"\"\n",
    "        This creates a list of numbers with a single value missing\n",
    "        e.g. range_missing(0, 8, 2) -> [0, 1, 3, 4, 5, 6, 7]\n",
    "        \"\"\"\n",
    "        return list(range(start, missing)) + list(range(missing + 1, stop))\n",
    "\n",
    "    def cost(self):\n",
    "        \"\"\"Calculates the number of pairs attacking\"\"\"\n",
    "        count = 0\n",
    "        for i in range(len(self.state) - 1):\n",
    "            # for each queen, look in columns to the right\n",
    "            # add one to the count if there is another queen in the same row\n",
    "            count += (self.state[i] == np.array(self.state[i + 1:])).sum()\n",
    "\n",
    "            # add one to the count for each queen on the upper or lower diagonal\n",
    "            upper_diagonal = self.state[i] + np.arange(1, self.n - i)\n",
    "            lower_diagonal = self.state[i] - np.arange(1, self.n - i)\n",
    "            count += (np.array(self.state[i + 1:]) == upper_diagonal).sum()\n",
    "            count += (np.array(self.state[i + 1:]) == lower_diagonal).sum()\n",
    "        return count\n",
    "    \n",
    "    def neighbourhood(self):\n",
    "        \"\"\"This generates every state possible by changing a single queen position\"\"\"\n",
    "        neighbourhood = []\n",
    "        for column in range(self.n):\n",
    "            for new_position in self.range_missing(0, self.n, self.state[column]):\n",
    "                new_state = self.copy_replace(self.state, column, new_position)\n",
    "                neighbourhood.append(EightQueensState(new_state))\n",
    "\n",
    "        return neighbourhood\n",
    "\n",
    "    def random_neighbour(self):\n",
    "        \"\"\"Generates a single random neighbour state, useful for some algorithms\"\"\"\n",
    "        column = np.random.choice(range(self.n))\n",
    "        new_position = np.random.choice(self.range_missing(0, self.n, self.state[column]))\n",
    "        new_state = self.copy_replace(self.state, column, new_position)\n",
    "        return EightQueensState(new_state)\n",
    "\n",
    "    def is_goal(self):\n",
    "        return self.cost() == 0\n",
    "\n",
    "    def __str__(self):\n",
    "        if self.is_goal():\n",
    "            return f\"Goal state! {self.state}\"\n",
    "        else:\n",
    "            return f\"{self.state} cost {self.cost()}\""
   ]
  },
  {
   "cell_type": "code",
   "execution_count": 218,
   "metadata": {},
   "outputs": [],
   "source": [
    "import random\n",
    "from datetime import datetime\n",
    "import statistics as stats\n",
    "import copy"
   ]
  },
  {
   "cell_type": "code",
   "execution_count": 331,
   "metadata": {
    "scrolled": true
   },
   "outputs": [],
   "source": [
    "def get_random_pop(n_ind, n_queens):\n",
    "    # get a random population of n individual states for games of n queens\n",
    "    population = []\n",
    "    for i in range(n_ind):\n",
    "        population.append(EightQueensState(n = n_queens))\n",
    "    return population"
   ]
  },
  {
   "cell_type": "code",
   "execution_count": 332,
   "metadata": {},
   "outputs": [],
   "source": [
    "# Using pseudo code from Russel and Norvig, 2021, p. 133\n",
    "def reproduce(parent1, parent2):\n",
    "    \"\"\"\n",
    "    :params p1 and p2 are the EightQueensState objects of parents 1 and 2\n",
    "    \"\"\"\n",
    "    n = len(parent1.state)\n",
    "    c = np.random.choice(n) # random crossover point\n",
    "    child1 = np.append(parent1.state[:c], parent2.state[c:])\n",
    "    child2 = np.append(parent2.state[:c], parent1.state[c:])\n",
    "    \n",
    "    mutation_rate = 1/n\n",
    "    for i in range(len(child1)):\n",
    "        if random.random() < mutation_rate:\n",
    "            child1[i] = random.randint(0,7)\n",
    "    \n",
    "    for i in range(len(child2)):\n",
    "        if random.random() < mutation_rate:\n",
    "            child2[i] = random.randint(0,7)\n",
    "    \n",
    "    return EightQueensState(child1), EightQueensState(child2)"
   ]
  },
  {
   "cell_type": "code",
   "execution_count": 333,
   "metadata": {},
   "outputs": [],
   "source": [
    "# Using pseudo code from Russel and Norvig, 2021, p. 133\n",
    "def GA_solver1(population):\n",
    "    \"\"\"\n",
    "    :param population contains a population of individual game states, represented as a list of numpy arrays\n",
    "    \"\"\"\n",
    "    pop = copy.deepcopy(population)\n",
    "    fittest_score = 0\n",
    "    generation = 0\n",
    "    while fittest_score != 28: # keep generating new populations until the game is solved\n",
    "        parents = []\n",
    "        children = []\n",
    "        fitness = [28 - i.cost() for i in pop]\n",
    "        fitness_sorted = sorted(fitness)\n",
    "        \n",
    "        for i in range(len(fitness)):\n",
    "            if fitness[i] > fittest_score:\n",
    "                fittest_score = fitness[i]\n",
    "                fittest_state = pop[i]\n",
    "        \n",
    "        total_fitness = sum(fitness)\n",
    "        fitness_prop = [i/total_fitness for i in fitness]\n",
    "        \n",
    "        for i in range(int(len(pop)/2)):\n",
    "            parents.append(np.random.choice(pop, size=2, replace=False, p=fitness_prop))\n",
    "            \n",
    "        for pair in parents:\n",
    "            child1, child2 = reproduce(pair[0], pair[1])\n",
    "            children.extend([child1, child2])\n",
    "        \n",
    "        pop = children\n",
    "        generation += 1\n",
    "    return fittest_state, generation # returns the 8 Queens class object of the solution and the number of generations it took to get there"
   ]
  },
  {
   "cell_type": "code",
   "execution_count": 249,
   "metadata": {},
   "outputs": [
    {
     "name": "stdout",
     "output_type": "stream",
     "text": [
      "[3 6 4 2 0 5 7 1]\n",
      "0:00:24.035334\n",
      "[3 6 4 1 5 0 2 7]\n",
      "0:00:05.736620\n",
      "[3 1 7 4 6 0 2 5]\n",
      "0:00:19.238364\n",
      "[3 7 4 2 0 6 1 5]\n",
      "0:01:42.202491\n",
      "[6 3 1 4 7 0 2 5]\n",
      "0:00:05.586370\n",
      "[5 7 1 3 0 6 4 2]\n",
      "0:00:08.758874\n",
      "[7 1 4 2 0 6 3 5]\n",
      "0:00:24.056485\n",
      "[1 6 4 7 0 3 5 2]\n",
      "0:00:18.916673\n",
      "[2 5 3 1 7 4 6 0]\n",
      "0:00:15.455867\n",
      "[5 2 0 7 4 1 3 6]\n",
      "0:00:08.832106\n"
     ]
    }
   ],
   "source": [
    "for i in range(10):\n",
    "    p = get_random_pop(10,8)\n",
    "    start_time = datetime.now()\n",
    "    solution = GA_solver1(p)\n",
    "    print(solution.state)\n",
    "    print(datetime.now() - start_time)"
   ]
  },
  {
   "cell_type": "markdown",
   "metadata": {},
   "source": [
    "# Implementation 2\n",
    "N-Queens using culling and elitism."
   ]
  },
  {
   "cell_type": "code",
   "execution_count": 334,
   "metadata": {},
   "outputs": [],
   "source": [
    "# for task 2\n",
    "def reproduce2(parent1, parent2):\n",
    "    \"\"\"\n",
    "    :params p1 and p2 are the EightQueensState objects of parents 1 and 2\n",
    "    \"\"\"\n",
    "    n = len(parent1.state)\n",
    "    c = np.random.choice(n) # random crossover point\n",
    "    child1 = np.append(parent1.state[:c], parent2.state[c:])\n",
    "    child2 = np.append(parent2.state[:c], parent1.state[c:])\n",
    "    \n",
    "    mutation_rate = 1/n\n",
    "    for i in range(len(child1)):\n",
    "        if random.random() < mutation_rate:\n",
    "            child1[i] = random.randint(0,n-1)\n",
    "    \n",
    "    for i in range(len(child2)):\n",
    "        if random.random() < mutation_rate:\n",
    "            child2[i] = random.randint(0,n-1)\n",
    "    \n",
    "    return EightQueensState(child1), EightQueensState(child2)"
   ]
  },
  {
   "cell_type": "code",
   "execution_count": 335,
   "metadata": {
    "scrolled": true
   },
   "outputs": [],
   "source": [
    "# for task 2\n",
    "def GA_solver2(population):\n",
    "    \"\"\"\n",
    "    :param population contains a population of individual game states, represented as a list of numpy arrays\n",
    "    \"\"\"\n",
    "    pop = copy.deepcopy(population) # making deepcopy to allow algorithm repition on the same population\n",
    "    fittest_score = 0\n",
    "    generation = 0\n",
    "    n_queens = len(population[0].state)\n",
    "    if 1 < n_queens < 4:\n",
    "        print(\"No solutions for games with 2 or 3 Queens\")\n",
    "        return\n",
    "    max_score = (n_queens * (n_queens-1))/2\n",
    "    while fittest_score != max_score:\n",
    "        parents = []\n",
    "        children = []\n",
    "        fitness = [max_score - i.cost() for i in pop]\n",
    "        fitness_sorted = sorted(fitness)\n",
    "        \n",
    "        for i in range(len(fitness)):\n",
    "            if fitness[i] > fittest_score:\n",
    "                fittest_score = fitness[i]\n",
    "                fittest_state = pop[i]\n",
    "        \n",
    "        #elitism\n",
    "        for i in fitness_sorted[int(len(pop)*0.8):]:\n",
    "            children.append(pop[fitness.index(i)])\n",
    "            \n",
    "        #culling the least fit before breeding\n",
    "        for i in fitness_sorted[:int(len(pop)/5)]: # cull the lowest 20% of states\n",
    "            pop.pop(fitness.index(i))\n",
    "            fitness.pop(fitness.index(i))\n",
    "        \n",
    "        total_fitness = sum(fitness)\n",
    "        fitness_prop = [i/total_fitness for i in fitness]\n",
    "        \n",
    "        for i in range(int(len(pop)/2)):\n",
    "            parents.append(np.random.choice(pop, size=2, replace=False, p=fitness_prop))\n",
    "            \n",
    "        for pair in parents:\n",
    "            child1, child2 = reproduce2(pair[0], pair[1])\n",
    "            children.extend([child1, child2])\n",
    "        \n",
    "        pop = children\n",
    "        generation += 1\n",
    "    return fittest_state, generation"
   ]
  },
  {
   "cell_type": "code",
   "execution_count": 326,
   "metadata": {},
   "outputs": [
    {
     "name": "stdout",
     "output_type": "stream",
     "text": [
      "No solutions for games with 2 or 3 Queens\n"
     ]
    },
    {
     "ename": "TypeError",
     "evalue": "'NoneType' object is not subscriptable",
     "output_type": "error",
     "traceback": [
      "\u001b[1;31m---------------------------------------------------------------------------\u001b[0m",
      "\u001b[1;31mTypeError\u001b[0m                                 Traceback (most recent call last)",
      "\u001b[1;32m<ipython-input-326-6da43045bbb3>\u001b[0m in \u001b[0;36m<module>\u001b[1;34m\u001b[0m\n\u001b[0;32m      1\u001b[0m \u001b[0mp\u001b[0m \u001b[1;33m=\u001b[0m \u001b[0mget_random_pop\u001b[0m\u001b[1;33m(\u001b[0m\u001b[1;36m4\u001b[0m\u001b[1;33m,\u001b[0m \u001b[1;36m2\u001b[0m\u001b[1;33m)\u001b[0m\u001b[1;33m\u001b[0m\u001b[1;33m\u001b[0m\u001b[0m\n\u001b[0;32m      2\u001b[0m \u001b[0msolution\u001b[0m \u001b[1;33m=\u001b[0m \u001b[0mGA_solver2\u001b[0m\u001b[1;33m(\u001b[0m\u001b[0mp\u001b[0m\u001b[1;33m)\u001b[0m\u001b[1;33m\u001b[0m\u001b[1;33m\u001b[0m\u001b[0m\n\u001b[1;32m----> 3\u001b[1;33m \u001b[0mprint\u001b[0m\u001b[1;33m(\u001b[0m\u001b[0msolution\u001b[0m\u001b[1;33m[\u001b[0m\u001b[1;36m0\u001b[0m\u001b[1;33m]\u001b[0m\u001b[1;33m.\u001b[0m\u001b[0mstate\u001b[0m\u001b[1;33m)\u001b[0m\u001b[1;33m\u001b[0m\u001b[1;33m\u001b[0m\u001b[0m\n\u001b[0m",
      "\u001b[1;31mTypeError\u001b[0m: 'NoneType' object is not subscriptable"
     ]
    }
   ],
   "source": [
    "p = get_random_pop(4, 2)\n",
    "solution = GA_solver2(p)\n",
    "print(solution[0].state)"
   ]
  },
  {
   "cell_type": "markdown",
   "metadata": {},
   "source": [
    "# Test 1: Population sizes"
   ]
  },
  {
   "cell_type": "code",
   "execution_count": 298,
   "metadata": {
    "scrolled": true
   },
   "outputs": [
    {
     "name": "stdout",
     "output_type": "stream",
     "text": [
      "solution 2: [4 2 7 3 6 0 5 1]\n",
      "0:00:24.381492\n",
      "\n",
      "solution 7: [5 2 6 3 0 7 1 4]\n",
      "0:00:07.707946\n",
      "\n",
      "solution 12: [2 0 6 4 7 1 3 5]\n",
      "0:00:20.101817\n",
      "\n",
      "solution 17: [4 7 3 0 2 5 1 6]\n",
      "0:00:00.055844\n",
      "\n",
      "solution 22: [4 2 7 3 6 0 5 1]\n",
      "0:00:35.905507\n",
      "\n",
      "solution 27: [3 6 4 2 0 5 7 1]\n",
      "0:00:45.098183\n",
      "\n",
      "solution 32: [1 4 6 0 2 7 5 3]\n",
      "0:00:26.975383\n",
      "\n",
      "solution 37: [5 3 6 0 7 1 4 2]\n",
      "0:00:14.159813\n",
      "\n",
      "solution 42: [5 7 1 3 0 6 4 2]\n",
      "0:00:14.249594\n",
      "\n",
      "solution 47: [2 7 3 6 0 5 1 4]\n",
      "0:00:15.528441\n",
      "\n"
     ]
    }
   ],
   "source": [
    "# testing different population sizes for my first implementation\n",
    "for i in range(2, 50, 5):\n",
    "    p = get_random_pop(i, 8)\n",
    "    start_time = datetime.now()\n",
    "    solution = GA_solver1(p)\n",
    "    print(f\"solution {i}: {solution[0].state}\")\n",
    "    print(datetime.now() - start_time)\n",
    "    print()"
   ]
  },
  {
   "cell_type": "code",
   "execution_count": 299,
   "metadata": {},
   "outputs": [
    {
     "name": "stdout",
     "output_type": "stream",
     "text": [
      "solution 2: [6 2 7 1 4 0 5 3]\n",
      "0:01:41.691692\n",
      "\n",
      "solution 7: [4 6 1 5 2 0 7 3]\n",
      "0:00:02.547223\n",
      "\n",
      "solution 12: [5 1 6 0 2 4 7 3]\n",
      "0:00:00.517617\n",
      "\n",
      "solution 17: [3 6 2 7 1 4 0 5]\n",
      "0:01:32.059359\n",
      "\n",
      "solution 22: [1 3 5 7 2 0 6 4]\n",
      "0:00:01.048230\n",
      "\n",
      "solution 27: [6 4 2 0 5 7 1 3]\n",
      "0:00:00.271244\n",
      "\n",
      "solution 32: [2 4 7 3 0 6 1 5]\n",
      "0:01:58.102976\n",
      "\n",
      "solution 37: [6 2 0 5 7 4 1 3]\n",
      "0:00:00.566485\n",
      "\n",
      "solution 42: [3 7 0 2 5 1 6 4]\n",
      "0:00:00.290178\n",
      "\n",
      "solution 47: [4 1 5 0 6 3 7 2]\n",
      "0:00:01.714448\n",
      "\n"
     ]
    }
   ],
   "source": [
    "# testing different population sizes for my second implementation\n",
    "for i in range(2, 50, 5):\n",
    "    p = get_random_pop(i, 8)\n",
    "    start_time = datetime.now()\n",
    "    solution = GA_solver2(p)\n",
    "    print(f\"solution {i}: {solution[0].state}\")\n",
    "    print(datetime.now() - start_time)\n",
    "    print()"
   ]
  },
  {
   "cell_type": "markdown",
   "metadata": {},
   "source": [
    "# Test 2: Implementation 1 vs 2"
   ]
  },
  {
   "cell_type": "code",
   "execution_count": 300,
   "metadata": {
    "scrolled": true
   },
   "outputs": [
    {
     "name": "stdout",
     "output_type": "stream",
     "text": [
      "GA 1 solution: [3 1 7 5 0 2 4 6]\n",
      "GA 2 solution: [6 3 1 4 7 0 2 5]\n",
      "\n",
      "GA 1 solution: [5 2 6 1 7 4 0 3]\n",
      "GA 2 solution: [4 7 3 0 2 5 1 6]\n",
      "\n",
      "GA 1 solution: [4 0 3 5 7 1 6 2]\n",
      "GA 2 solution: [2 0 6 4 7 1 3 5]\n",
      "\n",
      "GA 1 solution: [3 5 0 4 1 7 2 6]\n",
      "GA 2 solution: [4 0 3 5 7 1 6 2]\n",
      "\n",
      "GA 1 solution: [5 2 6 1 7 4 0 3]\n",
      "GA 2 solution: [2 4 1 7 0 6 3 5]\n",
      "\n",
      "GA 1 solution: [2 4 1 7 0 6 3 5]\n",
      "GA 2 solution: [5 0 4 1 7 2 6 3]\n",
      "\n",
      "GA 1 solution: [3 1 7 5 0 2 4 6]\n",
      "GA 2 solution: [2 6 1 7 5 3 0 4]\n",
      "\n",
      "GA 1 solution: [2 5 3 1 7 4 6 0]\n",
      "GA 2 solution: [6 3 1 4 7 0 2 5]\n",
      "\n",
      "GA 1 solution: [5 2 4 7 0 3 1 6]\n",
      "GA 2 solution: [5 3 6 0 7 1 4 2]\n",
      "\n",
      "GA 1 solution: [2 6 1 7 5 3 0 4]\n",
      "GA 2 solution: [5 0 4 1 7 2 6 3]\n",
      "\n",
      "1st algorithm: Avg generations: 12110.4, gens [799, 7298, 970, 5363, 22975, 2009, 50295, 8041, 21150, 2204]\n",
      "\n",
      "2nd algorithm: Avg generations: 13055.5, gens [663, 6858, 31, 16162, 62, 152, 1697, 85138, 2646, 17146]\n"
     ]
    }
   ],
   "source": [
    "gens1=[]\n",
    "gens2=[]\n",
    "for i in range(10):\n",
    "    p = get_random_pop(10,8)\n",
    "    solution1 = GA_solver1(p)\n",
    "    print(f\"GA 1 solution: {solution1[0].state}\")\n",
    "    gens1.append(solution1[1])\n",
    "    \n",
    "    solution2 = GA_solver2(p)\n",
    "    print(f\"GA 2 solution: {solution2[0].state}\\n\")\n",
    "    gens2.append(solution2[1])\n",
    "print(f\"1st algorithm: Avg generations: {stats.mean(gens1)}, gens {gens1}\\n\")\n",
    "print(f\"2nd algorithm: Avg generations: {stats.mean(gens2)}, gens {gens2}\")"
   ]
  },
  {
   "cell_type": "markdown",
   "metadata": {},
   "source": [
    "# Changing board size (n-queens)"
   ]
  },
  {
   "cell_type": "code",
   "execution_count": 309,
   "metadata": {},
   "outputs": [
    {
     "name": "stdout",
     "output_type": "stream",
     "text": [
      "[1 3 0 2]\n",
      "[0 3 1 4 2]\n",
      "[1 3 5 0 2 4]\n",
      "[0 4 1 5 2 6 3]\n",
      "[2 4 1 7 5 3 6 0]\n",
      "[6 4 0 5 8 2 7 3 1]\n",
      "{4: 12, 5: 3, 6: 23, 7: 25, 8: 134, 9: 94}\n"
     ]
    }
   ],
   "source": [
    "results = {}\n",
    "for i in range(4, 10):\n",
    "    p = get_random_pop(10,i)\n",
    "    solution = GA_solver2(p)\n",
    "    print(solution[0].state)\n",
    "    results[i] = solution[1] # number of generations\n",
    "print(results)"
   ]
  },
  {
   "cell_type": "code",
   "execution_count": 329,
   "metadata": {},
   "outputs": [
    {
     "ename": "KeyboardInterrupt",
     "evalue": "",
     "output_type": "error",
     "traceback": [
      "\u001b[1;31m---------------------------------------------------------------------------\u001b[0m",
      "\u001b[1;31mKeyboardInterrupt\u001b[0m                         Traceback (most recent call last)",
      "\u001b[1;32m<ipython-input-329-ea0d1a1ae590>\u001b[0m in \u001b[0;36m<module>\u001b[1;34m\u001b[0m\n\u001b[0;32m      2\u001b[0m \u001b[1;32mfor\u001b[0m \u001b[0mi\u001b[0m \u001b[1;32min\u001b[0m \u001b[0mrange\u001b[0m\u001b[1;33m(\u001b[0m\u001b[1;36m10\u001b[0m\u001b[1;33m,\u001b[0m \u001b[1;36m15\u001b[0m\u001b[1;33m)\u001b[0m\u001b[1;33m:\u001b[0m\u001b[1;33m\u001b[0m\u001b[1;33m\u001b[0m\u001b[0m\n\u001b[0;32m      3\u001b[0m     \u001b[0mp\u001b[0m \u001b[1;33m=\u001b[0m \u001b[0mget_random_pop\u001b[0m\u001b[1;33m(\u001b[0m\u001b[1;36m10\u001b[0m\u001b[1;33m,\u001b[0m\u001b[0mi\u001b[0m\u001b[1;33m)\u001b[0m\u001b[1;33m\u001b[0m\u001b[1;33m\u001b[0m\u001b[0m\n\u001b[1;32m----> 4\u001b[1;33m     \u001b[0msolution\u001b[0m \u001b[1;33m=\u001b[0m \u001b[0mGA_solver2\u001b[0m\u001b[1;33m(\u001b[0m\u001b[0mp\u001b[0m\u001b[1;33m)\u001b[0m\u001b[1;33m\u001b[0m\u001b[1;33m\u001b[0m\u001b[0m\n\u001b[0m\u001b[0;32m      5\u001b[0m     \u001b[0mprint\u001b[0m\u001b[1;33m(\u001b[0m\u001b[0msolution\u001b[0m\u001b[1;33m[\u001b[0m\u001b[1;36m0\u001b[0m\u001b[1;33m]\u001b[0m\u001b[1;33m.\u001b[0m\u001b[0mstate\u001b[0m\u001b[1;33m)\u001b[0m\u001b[1;33m\u001b[0m\u001b[1;33m\u001b[0m\u001b[0m\n\u001b[0;32m      6\u001b[0m     \u001b[0mprint\u001b[0m\u001b[1;33m(\u001b[0m\u001b[0msolution\u001b[0m\u001b[1;33m[\u001b[0m\u001b[1;36m1\u001b[0m\u001b[1;33m]\u001b[0m\u001b[1;33m)\u001b[0m\u001b[1;33m\u001b[0m\u001b[1;33m\u001b[0m\u001b[0m\n",
      "\u001b[1;32m<ipython-input-316-67dc75426ca1>\u001b[0m in \u001b[0;36mGA_solver2\u001b[1;34m(population)\u001b[0m\n\u001b[0;32m     15\u001b[0m         \u001b[0mparents\u001b[0m \u001b[1;33m=\u001b[0m \u001b[1;33m[\u001b[0m\u001b[1;33m]\u001b[0m\u001b[1;33m\u001b[0m\u001b[1;33m\u001b[0m\u001b[0m\n\u001b[0;32m     16\u001b[0m         \u001b[0mchildren\u001b[0m \u001b[1;33m=\u001b[0m \u001b[1;33m[\u001b[0m\u001b[1;33m]\u001b[0m\u001b[1;33m\u001b[0m\u001b[1;33m\u001b[0m\u001b[0m\n\u001b[1;32m---> 17\u001b[1;33m         \u001b[0mfitness\u001b[0m \u001b[1;33m=\u001b[0m \u001b[1;33m[\u001b[0m\u001b[0mmax_score\u001b[0m \u001b[1;33m-\u001b[0m \u001b[0mi\u001b[0m\u001b[1;33m.\u001b[0m\u001b[0mcost\u001b[0m\u001b[1;33m(\u001b[0m\u001b[1;33m)\u001b[0m \u001b[1;32mfor\u001b[0m \u001b[0mi\u001b[0m \u001b[1;32min\u001b[0m \u001b[0mpop\u001b[0m\u001b[1;33m]\u001b[0m\u001b[1;33m\u001b[0m\u001b[1;33m\u001b[0m\u001b[0m\n\u001b[0m\u001b[0;32m     18\u001b[0m         \u001b[0mfitness_sorted\u001b[0m \u001b[1;33m=\u001b[0m \u001b[0msorted\u001b[0m\u001b[1;33m(\u001b[0m\u001b[0mfitness\u001b[0m\u001b[1;33m)\u001b[0m\u001b[1;33m\u001b[0m\u001b[1;33m\u001b[0m\u001b[0m\n\u001b[0;32m     19\u001b[0m \u001b[1;33m\u001b[0m\u001b[0m\n",
      "\u001b[1;32m<ipython-input-316-67dc75426ca1>\u001b[0m in \u001b[0;36m<listcomp>\u001b[1;34m(.0)\u001b[0m\n\u001b[0;32m     15\u001b[0m         \u001b[0mparents\u001b[0m \u001b[1;33m=\u001b[0m \u001b[1;33m[\u001b[0m\u001b[1;33m]\u001b[0m\u001b[1;33m\u001b[0m\u001b[1;33m\u001b[0m\u001b[0m\n\u001b[0;32m     16\u001b[0m         \u001b[0mchildren\u001b[0m \u001b[1;33m=\u001b[0m \u001b[1;33m[\u001b[0m\u001b[1;33m]\u001b[0m\u001b[1;33m\u001b[0m\u001b[1;33m\u001b[0m\u001b[0m\n\u001b[1;32m---> 17\u001b[1;33m         \u001b[0mfitness\u001b[0m \u001b[1;33m=\u001b[0m \u001b[1;33m[\u001b[0m\u001b[0mmax_score\u001b[0m \u001b[1;33m-\u001b[0m \u001b[0mi\u001b[0m\u001b[1;33m.\u001b[0m\u001b[0mcost\u001b[0m\u001b[1;33m(\u001b[0m\u001b[1;33m)\u001b[0m \u001b[1;32mfor\u001b[0m \u001b[0mi\u001b[0m \u001b[1;32min\u001b[0m \u001b[0mpop\u001b[0m\u001b[1;33m]\u001b[0m\u001b[1;33m\u001b[0m\u001b[1;33m\u001b[0m\u001b[0m\n\u001b[0m\u001b[0;32m     18\u001b[0m         \u001b[0mfitness_sorted\u001b[0m \u001b[1;33m=\u001b[0m \u001b[0msorted\u001b[0m\u001b[1;33m(\u001b[0m\u001b[0mfitness\u001b[0m\u001b[1;33m)\u001b[0m\u001b[1;33m\u001b[0m\u001b[1;33m\u001b[0m\u001b[0m\n\u001b[0;32m     19\u001b[0m \u001b[1;33m\u001b[0m\u001b[0m\n",
      "\u001b[1;32m<ipython-input-1-cd25486347ca>\u001b[0m in \u001b[0;36mcost\u001b[1;34m(self)\u001b[0m\n\u001b[0;32m     42\u001b[0m             \u001b[0mlower_diagonal\u001b[0m \u001b[1;33m=\u001b[0m \u001b[0mself\u001b[0m\u001b[1;33m.\u001b[0m\u001b[0mstate\u001b[0m\u001b[1;33m[\u001b[0m\u001b[0mi\u001b[0m\u001b[1;33m]\u001b[0m \u001b[1;33m-\u001b[0m \u001b[0mnp\u001b[0m\u001b[1;33m.\u001b[0m\u001b[0marange\u001b[0m\u001b[1;33m(\u001b[0m\u001b[1;36m1\u001b[0m\u001b[1;33m,\u001b[0m \u001b[0mself\u001b[0m\u001b[1;33m.\u001b[0m\u001b[0mn\u001b[0m \u001b[1;33m-\u001b[0m \u001b[0mi\u001b[0m\u001b[1;33m)\u001b[0m\u001b[1;33m\u001b[0m\u001b[1;33m\u001b[0m\u001b[0m\n\u001b[0;32m     43\u001b[0m             \u001b[0mcount\u001b[0m \u001b[1;33m+=\u001b[0m \u001b[1;33m(\u001b[0m\u001b[0mnp\u001b[0m\u001b[1;33m.\u001b[0m\u001b[0marray\u001b[0m\u001b[1;33m(\u001b[0m\u001b[0mself\u001b[0m\u001b[1;33m.\u001b[0m\u001b[0mstate\u001b[0m\u001b[1;33m[\u001b[0m\u001b[0mi\u001b[0m \u001b[1;33m+\u001b[0m \u001b[1;36m1\u001b[0m\u001b[1;33m:\u001b[0m\u001b[1;33m]\u001b[0m\u001b[1;33m)\u001b[0m \u001b[1;33m==\u001b[0m \u001b[0mupper_diagonal\u001b[0m\u001b[1;33m)\u001b[0m\u001b[1;33m.\u001b[0m\u001b[0msum\u001b[0m\u001b[1;33m(\u001b[0m\u001b[1;33m)\u001b[0m\u001b[1;33m\u001b[0m\u001b[1;33m\u001b[0m\u001b[0m\n\u001b[1;32m---> 44\u001b[1;33m             \u001b[0mcount\u001b[0m \u001b[1;33m+=\u001b[0m \u001b[1;33m(\u001b[0m\u001b[0mnp\u001b[0m\u001b[1;33m.\u001b[0m\u001b[0marray\u001b[0m\u001b[1;33m(\u001b[0m\u001b[0mself\u001b[0m\u001b[1;33m.\u001b[0m\u001b[0mstate\u001b[0m\u001b[1;33m[\u001b[0m\u001b[0mi\u001b[0m \u001b[1;33m+\u001b[0m \u001b[1;36m1\u001b[0m\u001b[1;33m:\u001b[0m\u001b[1;33m]\u001b[0m\u001b[1;33m)\u001b[0m \u001b[1;33m==\u001b[0m \u001b[0mlower_diagonal\u001b[0m\u001b[1;33m)\u001b[0m\u001b[1;33m.\u001b[0m\u001b[0msum\u001b[0m\u001b[1;33m(\u001b[0m\u001b[1;33m)\u001b[0m\u001b[1;33m\u001b[0m\u001b[1;33m\u001b[0m\u001b[0m\n\u001b[0m\u001b[0;32m     45\u001b[0m         \u001b[1;32mreturn\u001b[0m \u001b[0mcount\u001b[0m\u001b[1;33m\u001b[0m\u001b[1;33m\u001b[0m\u001b[0m\n\u001b[0;32m     46\u001b[0m \u001b[1;33m\u001b[0m\u001b[0m\n",
      "\u001b[1;31mKeyboardInterrupt\u001b[0m: "
     ]
    }
   ],
   "source": [
    "results = {}\n",
    "for i in range(10, 15):\n",
    "    p = get_random_pop(10,i)\n",
    "    solution = GA_solver2(p)\n",
    "    print(solution[0].state)\n",
    "    print(solution[1])\n",
    "    results[i] = solution[1] # number of generations\n",
    "print(results)"
   ]
  },
  {
   "cell_type": "code",
   "execution_count": null,
   "metadata": {},
   "outputs": [],
   "source": []
  }
 ],
 "metadata": {
  "kernelspec": {
   "display_name": "Python 3 (ipykernel)",
   "language": "python",
   "name": "python3"
  },
  "language_info": {
   "codemirror_mode": {
    "name": "ipython",
    "version": 3
   },
   "file_extension": ".py",
   "mimetype": "text/x-python",
   "name": "python",
   "nbconvert_exporter": "python",
   "pygments_lexer": "ipython3",
   "version": "3.8.11"
  }
 },
 "nbformat": 4,
 "nbformat_minor": 2
}
